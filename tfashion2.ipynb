{
 "cells": [
  {
   "cell_type": "markdown",
   "metadata": {},
   "source": [
    "#### Get a non-fashion Chinese corpus\n",
    "- Chinese Wikipedia Dump\n",
    "- Use WikiExtractor to convert the XML dump into plain text\n",
    "- Get extracted_texts\n",
    "- Filter Non-Fashion Content from the Extracted Texts, using fashion keywords"
   ]
  },
  {
   "cell_type": "code",
   "execution_count": null,
   "metadata": {},
   "outputs": [],
   "source": [
    "import pandas as pd\n",
    "\n",
    "# Load the topics0611.csv file\n",
    "fashion_keywords_df = pd.read_csv('/Users/ddyilin/Documents/GitHub/fashion/topics0611_filtered.csv')\n",
    "\n",
    "# Extract the 'keyword group' column as a list of fashion-related keywords\n",
    "# Convert all values to strings and drop NaN values\n",
    "fashion_keywords = fashion_keywords_df['keyword group'].dropna().astype(str).tolist()\n"
   ]
  },
  {
   "cell_type": "code",
   "execution_count": null,
   "metadata": {},
   "outputs": [],
   "source": [
    "# Filter Out Fashion-Related Content\n",
    "import os\n",
    "\n",
    "def filter_non_fashion_texts(input_dir, output_dir, fashion_keywords):\n",
    "    if not os.path.exists(output_dir):\n",
    "        os.makedirs(output_dir)\n",
    "    \n",
    "    for foldername in os.listdir(input_dir):\n",
    "        folder_path = os.path.join(input_dir, foldername)\n",
    "        if os.path.isdir(folder_path):\n",
    "            output_folder_path = os.path.join(output_dir, foldername)\n",
    "            os.makedirs(output_folder_path, exist_ok=True)\n",
    "            \n",
    "            for filename in os.listdir(folder_path):\n",
    "                input_file_path = os.path.join(folder_path, filename)\n",
    "                output_file_path = os.path.join(output_folder_path, filename)\n",
    "                \n",
    "                with open(input_file_path, 'r', encoding='utf-8') as infile, open(output_file_path, 'w', encoding='utf-8') as outfile:\n",
    "                    for line in infile:\n",
    "                        # Ensure that the comparison is between strings\n",
    "                        if not any(keyword in line for keyword in fashion_keywords):\n",
    "                            outfile.write(line)\n",
    "\n",
    "input_dir = '/Users/ddyilin/Documents/GitHub/fashion/extracted_texts'\n",
    "output_dir = '/Users/ddyilin/Documents/GitHub/fashion/non_fashion_texts'\n",
    "\n",
    "filter_non_fashion_texts(input_dir, output_dir, fashion_keywords)\n"
   ]
  },
  {
   "cell_type": "markdown",
   "metadata": {},
   "source": [
    "#### Prepare Data for Model Training\n",
    "- Tokenize the Non-Fashion Texts\n",
    "- Combine with Fashion-Related Tokens"
   ]
  },
  {
   "cell_type": "code",
   "execution_count": null,
   "metadata": {},
   "outputs": [],
   "source": [
    "from transformers import BertTokenizer\n",
    "import torch\n",
    "import os\n",
    "import random\n",
    "\n",
    "# Initialize the BERT tokenizer\n",
    "tokenizer = BertTokenizer.from_pretrained('bert-base-chinese')\n",
    "\n",
    "def tokenize_corpus(directory, max_length):\n",
    "    all_lines = []\n",
    "    for foldername in os.listdir(directory):\n",
    "        folder_path = os.path.join(directory, foldername)\n",
    "        if os.path.isdir(folder_path):\n",
    "            for filename in os.listdir(folder_path):\n",
    "                file_path = os.path.join(folder_path, filename)\n",
    "                with open(file_path, 'r', encoding='utf-8') as file:\n",
    "                    # Collect all lines to tokenize them at once, skipping blank lines\n",
    "                    all_lines.extend([line.strip() for line in file if line.strip() != \"\"])\n",
    "    \n",
    "    # Tokenize all lines with padding and truncation to a fixed max length\n",
    "    tokenized_texts = tokenizer(all_lines, padding=True, truncation=True, max_length=max_length, return_tensors='pt')\n",
    "    \n",
    "    # Manually adjust padding to ensure uniform sequence length\n",
    "    input_ids = torch.nn.functional.pad(tokenized_texts['input_ids'], (0, max_length - tokenized_texts['input_ids'].size(1)), value=0)\n",
    "    attention_mask = torch.nn.functional.pad(tokenized_texts['attention_mask'], (0, max_length - tokenized_texts['attention_mask'].size(1)), value=0)\n",
    "    \n",
    "    return {'input_ids': input_ids, 'attention_mask': attention_mask}\n",
    "\n",
    "# Set a max length for all tokenized sequences\n",
    "max_length = 512  \n",
    "\n",
    "# Tokenize non-fashion related texts\n",
    "non_fashion_tokens = tokenize_corpus('/Users/ddyilin/Documents/GitHub/fashion/non_fashion_texts', max_length)\n",
    "\n",
    "# Assuming fashion_keywords is a list of strings\n",
    "fashion_tokens = tokenizer(fashion_keywords, padding=True, truncation=True, max_length=max_length, return_tensors='pt')\n",
    "\n",
    "# Combine the tokenized non-fashion and fashion tokens\n",
    "combined_input_ids = torch.cat((non_fashion_tokens['input_ids'], fashion_tokens['input_ids']), dim=0)\n",
    "combined_attention_mask = torch.cat((non_fashion_tokens['attention_mask'], fashion_tokens['attention_mask']), dim=0)\n",
    "\n",
    "# If token_type_ids are available, concatenate them as well\n",
    "if 'token_type_ids' in non_fashion_tokens and 'token_type_ids' in fashion_tokens:\n",
    "    combined_token_type_ids = torch.cat((non_fashion_tokens['token_type_ids'], fashion_tokens['token_type_ids']), dim=0)\n",
    "else:\n",
    "    combined_token_type_ids = None\n",
    "\n",
    "# Label fashion-related texts as 1 and non-fashion-related texts as 0\n",
    "fashion_labels = [1] * fashion_tokens['input_ids'].shape[0]\n",
    "non_fashion_labels = [0] * non_fashion_tokens['input_ids'].shape[0]\n",
    "\n",
    "# Combine the labels\n",
    "all_labels = fashion_labels + non_fashion_labels\n",
    "\n",
    "# Shuffle the dataset\n",
    "combined = list(zip(combined_input_ids, combined_attention_mask, all_labels))\n",
    "random.shuffle(combined)\n",
    "\n",
    "# Unzip the shuffled dataset\n",
    "all_input_ids, all_attention_mask, all_labels = zip(*combined)\n",
    "\n",
    "# Convert back to tensors\n",
    "all_input_ids = torch.stack(all_input_ids)\n",
    "all_attention_mask = torch.stack(all_attention_mask)\n",
    "all_labels = torch.tensor(all_labels)\n",
    "\n",
    "# If token_type_ids are used, shuffle and stack them too\n",
    "if combined_token_type_ids is not None:\n",
    "    combined_token_type_ids = list(zip(combined_token_type_ids))\n",
    "    random.shuffle(combined_token_type_ids)\n",
    "    all_token_type_ids = torch.stack([item[0] for item in combined_token_type_ids])\n",
    "else:\n",
    "    all_token_type_ids = None\n",
    "\n",
    "# Print shapes for verification\n",
    "print(\"Input IDs shape:\", all_input_ids.shape)\n",
    "print(\"Attention Mask shape:\", all_attention_mask.shape)\n",
    "if all_token_type_ids is not None:\n",
    "    print(\"Token Type IDs shape:\", all_token_type_ids.shape)\n",
    "print(\"Labels shape:\", all_labels.shape)\n"
   ]
  },
  {
   "cell_type": "markdown",
   "metadata": {},
   "source": [
    "#### Train the Model\n",
    "- Split the Data into Training and Validation Sets\n",
    "- Fine-Tune BERT"
   ]
  },
  {
   "cell_type": "code",
   "execution_count": null,
   "metadata": {},
   "outputs": [],
   "source": [
    "from sklearn.model_selection import train_test_split\n",
    "import torch\n",
    "from transformers import BertForSequenceClassification, Trainer, TrainingArguments\n",
    "\n",
    "# Ensure all_input_ids, all_attention_mask, and all_labels are tensors\n",
    "all_input_ids = torch.tensor(all_input_ids)\n",
    "all_attention_mask = torch.tensor(all_attention_mask)\n",
    "all_labels = torch.tensor(all_labels)\n",
    "\n",
    "# If token_type_ids is used, ensure it's a tensor too\n",
    "if all_token_type_ids is not None:\n",
    "    all_token_type_ids = torch.tensor(all_token_type_ids)\n",
    "\n",
    "# Split the data into training and validation sets, ensuring consistency across all inputs\n",
    "split_data = [all_input_ids, all_attention_mask, all_labels]\n",
    "if all_token_type_ids is not None:\n",
    "    split_data.append(all_token_type_ids)\n",
    "\n",
    "train_inputs, val_inputs, train_masks, val_masks, train_labels, val_labels = train_test_split(\n",
    "    *split_data, test_size=0.2, random_state=42)\n",
    "\n",
    "# If token_type_ids are used, split them as well\n",
    "if all_token_type_ids is not None:\n",
    "    train_token_type_ids, val_token_type_ids = train_test_split(all_token_type_ids, test_size=0.2, random_state=42)\n",
    "else:\n",
    "    train_token_type_ids, val_token_type_ids = None, None\n",
    "\n",
    "# Convert splits into PyTorch tensors (no need to re-convert if already tensors)\n",
    "# Combine inputs, masks, and labels into a TensorDataset\n",
    "if train_token_type_ids is not None:\n",
    "    train_dataset = torch.utils.data.TensorDataset(train_inputs, train_masks, train_token_type_ids, train_labels)\n",
    "    val_dataset = torch.utils.data.TensorDataset(val_inputs, val_masks, val_token_type_ids, val_labels)\n",
    "else:\n",
    "    train_dataset = torch.utils.data.TensorDataset(train_inputs, train_masks, train_labels)\n",
    "    val_dataset = torch.utils.data.TensorDataset(val_inputs, val_masks, val_labels)\n",
    "\n",
    "# Print out the shapes of the datasets to verify\n",
    "print(\"Train input_ids shape:\", train_inputs.shape)\n",
    "print(\"Validation input_ids shape:\", val_inputs.shape)\n",
    "print(\"Train labels shape:\", train_labels.shape)\n",
    "print(\"Validation labels shape:\", val_labels.shape)\n",
    "print(\"Train attention masks shape:\", train_masks.shape)\n",
    "print(\"Validation attention masks shape:\", val_masks.shape)\n",
    "if train_token_type_ids is not None:\n",
    "    print(\"Train token type ids shape:\", train_token_type_ids.shape)\n",
    "    print(\"Validation token type ids shape:\", val_token_type_ids.shape)\n",
    "\n"
   ]
  },
  {
   "cell_type": "markdown",
   "metadata": {},
   "source": [
    "#### Check data before training\n",
    "- Check Data Shapes\n",
    "- Check for Any 'NaN' Values\n",
    "- Check Data Distribution\n",
    "- Inspect a Few Examples\n",
    "- Check Label Value Range\n",
    "- Verify Dataset Splitting\n",
    "- Check for Duplicates"
   ]
  },
  {
   "cell_type": "code",
   "execution_count": null,
   "metadata": {},
   "outputs": [],
   "source": [
    "print(\"Input IDs shape:\", all_input_ids.shape)\n",
    "print(\"Attention Mask shape:\", all_attention_mask.shape)\n",
    "print(\"Labels shape:\", all_labels.shape)\n",
    "\n",
    "# If token_type_ids are used\n",
    "if all_token_type_ids is not None:\n",
    "    print(\"Token Type IDs shape:\", all_token_type_ids.shape)"
   ]
  },
  {
   "cell_type": "code",
   "execution_count": null,
   "metadata": {},
   "outputs": [],
   "source": [
    "import torch\n",
    "\n",
    "# Check for NaNs in input_ids\n",
    "print(\"NaNs in Input IDs:\", torch.isnan(all_input_ids).any().item())\n",
    "\n",
    "# Check for NaNs in attention_mask\n",
    "print(\"NaNs in Attention Mask:\", torch.isnan(all_attention_mask).any().item())\n",
    "\n",
    "# Check for NaNs in labels\n",
    "print(\"NaNs in Labels:\", torch.isnan(all_labels).any().item())\n",
    "\n",
    "# If using token_type_ids\n",
    "if all_token_type_ids is not None:\n",
    "    print(\"NaNs in Token Type IDs:\", torch.isnan(all_token_type_ids).any().item())\n"
   ]
  },
  {
   "cell_type": "code",
   "execution_count": null,
   "metadata": {},
   "outputs": [],
   "source": [
    "from collections import Counter\n",
    "\n",
    "label_counts = Counter(all_labels.tolist())\n",
    "print(\"Label distribution:\", label_counts)\n"
   ]
  },
  {
   "cell_type": "code",
   "execution_count": null,
   "metadata": {},
   "outputs": [],
   "source": [
    "for i in range(5):  # Check first 5 examples\n",
    "    print(f\"Example {i + 1}:\")\n",
    "    print(\"Input IDs:\", all_input_ids[i])\n",
    "    print(\"Attention Mask:\", all_attention_mask[i])\n",
    "    print(\"Label:\", all_labels[i])\n",
    "    if all_token_type_ids is not None:\n",
    "        print(\"Token Type IDs:\", all_token_type_ids[i])\n",
    "    print(\"-\" * 50)\n"
   ]
  },
  {
   "cell_type": "code",
   "execution_count": null,
   "metadata": {},
   "outputs": [],
   "source": [
    "print(\"Unique labels:\", set(all_labels.tolist()))\n"
   ]
  },
  {
   "cell_type": "code",
   "execution_count": null,
   "metadata": {},
   "outputs": [],
   "source": [
    "print(\"Train inputs shape:\", train_inputs.shape)\n",
    "print(\"Validation inputs shape:\", val_inputs.shape)\n",
    "print(\"Train labels shape:\", train_labels.shape)\n",
    "print(\"Validation labels shape:\", val_labels.shape)\n"
   ]
  },
  {
   "cell_type": "code",
   "execution_count": null,
   "metadata": {},
   "outputs": [],
   "source": [
    "unique_input_ids = torch.unique(all_input_ids, dim=0)\n",
    "print(\"Number of unique input IDs:\", unique_input_ids.shape[0])\n"
   ]
  },
  {
   "cell_type": "code",
   "execution_count": null,
   "metadata": {},
   "outputs": [],
   "source": [
    "from torch.utils.data import DataLoader\n",
    "\n",
    "# Custom data collator that returns the batch directly\n",
    "def custom_data_collator(batch):\n",
    "    input_ids, attention_mask, labels = tuple(torch.stack(samples) for samples in zip(*batch))\n",
    "    return {'input_ids': input_ids, 'attention_mask': attention_mask, 'labels': labels}\n",
    "\n",
    "# If using token_type_ids\n",
    "if train_token_type_ids is not None:\n",
    "    def custom_data_collator(batch):\n",
    "        input_ids, attention_mask, token_type_ids, labels = tuple(torch.stack(samples) for samples in zip(*batch))\n",
    "        return {\n",
    "            'input_ids': input_ids,\n",
    "            'attention_mask': attention_mask,\n",
    "            'token_type_ids': token_type_ids,\n",
    "            'labels': labels\n",
    "        }\n",
    "\n",
    "# DataLoader for the datasets\n",
    "train_dataloader = DataLoader(train_dataset, batch_size=16, shuffle=True, collate_fn=custom_data_collator)\n",
    "val_dataloader = DataLoader(val_dataset, batch_size=16, shuffle=False, collate_fn=custom_data_collator)\n"
   ]
  },
  {
   "cell_type": "markdown",
   "metadata": {},
   "source": [
    "#### Start Fine tune BERT\n",
    "- Train BERT for Sequence Classification: classify whether a sentence or post is fashion-related"
   ]
  },
  {
   "cell_type": "code",
   "execution_count": null,
   "metadata": {},
   "outputs": [],
   "source": [
    "from transformers import BertTokenizer, BertForSequenceClassification, Trainer, TrainingArguments\n",
    "import torch\n",
    "from sklearn.model_selection import train_test_split\n",
    "\n",
    "# Load the BERT model and tokenizer\n",
    "model = BertForSequenceClassification.from_pretrained('bert-base-chinese', num_labels=2)\n",
    "tokenizer = BertTokenizer.from_pretrained('bert-base-chinese')\n",
    "\n",
    "# Training arguments\n",
    "training_args = TrainingArguments(\n",
    "    output_dir='./results',\n",
    "    num_train_epochs=5,\n",
    "    per_device_train_batch_size=8,\n",
    "    per_device_eval_batch_size=8,\n",
    "    learning_rate=2e-5,\n",
    "    warmup_steps=500,\n",
    "    weight_decay=0.03,\n",
    "    logging_dir='./logs',\n",
    "    logging_steps=10,\n",
    "    eval_strategy=\"epoch\",\n",
    "    gradient_accumulation_steps=2,\n",
    "    max_grad_norm=1.0,\n",
    "    save_total_limit=3,\n",
    "    load_best_model_at_end=True,\n",
    "    metric_for_best_model=\"eval_loss\",\n",
    "    greater_is_better=False\n",
    ")\n",
    "\n",
    "# Assuming you already have train_dataset and val_dataset\n",
    "trainer = Trainer(\n",
    "    model=model,\n",
    "    args=training_args,\n",
    "    train_dataset=train_dataset,\n",
    "    eval_dataset=val_dataset,\n",
    ")\n",
    "\n",
    "# Train the model\n",
    "trainer.train()\n"
   ]
  },
  {
   "cell_type": "markdown",
   "metadata": {},
   "source": [
    "#### Evaluate and Save the Model\n",
    "- input: post_cleaned.csv\n",
    "- output: post_filtered.csv"
   ]
  },
  {
   "cell_type": "code",
   "execution_count": null,
   "metadata": {},
   "outputs": [],
   "source": [
    "model.save_pretrained('/Users/ddyilin/Documents/GitHub/fashion')\n"
   ]
  },
  {
   "cell_type": "code",
   "execution_count": null,
   "metadata": {},
   "outputs": [],
   "source": [
    "# Evaluate the model on the validation dataset\n",
    "eval_results = trainer.evaluate()\n",
    "\n",
    "# Print the evaluation results\n",
    "print(\"Evaluation Results:\", eval_results)\n"
   ]
  },
  {
   "cell_type": "markdown",
   "metadata": {},
   "source": [
    "#### Filter Non-Fashion Words Using the Model\n",
    "- Use the Trained Model to Classify Fashion-Related Content"
   ]
  },
  {
   "cell_type": "code",
   "execution_count": null,
   "metadata": {},
   "outputs": [],
   "source": [
    "# Set the model to evaluation mode\n",
    "model.eval()\n",
    "\n",
    "def classify_fashion_text(text, model, tokenizer):\n",
    "    inputs = tokenizer(text, return_tensors='pt', truncation=True, padding=True, max_length=512)\n",
    "    with torch.no_grad():\n",
    "        outputs = model(**inputs)\n",
    "    logits = outputs.logits\n",
    "    predicted_label = torch.argmax(logits, dim=1).item()\n",
    "    return predicted_label == 1  # Returns True if the text is fashion-related\n",
    "\n",
    "# Apply classification to the 'cleaned_post_text'\n",
    "df['is_fashion_related'] = df['cleaned_post_text'].apply(lambda x: classify_fashion_text(x, model, tokenizer))\n"
   ]
  },
  {
   "cell_type": "markdown",
   "metadata": {},
   "source": [
    "- Apply Keyword Extraction (RAKE) on Fashion-Related Texts"
   ]
  },
  {
   "cell_type": "code",
   "execution_count": null,
   "metadata": {},
   "outputs": [],
   "source": [
    "from rake_nltk import Rake\n",
    "\n",
    "# Initialize RAKE for keyword extraction\n",
    "r = Rake()\n",
    "\n",
    "def extract_fashion_keywords(text):\n",
    "    r.extract_keywords_from_text(text)\n",
    "    return r.get_ranked_phrases()  # Returns a list of keywords\n",
    "\n",
    "# Apply RAKE keyword extraction to fashion-related texts\n",
    "df['fashion_keywords'] = df.apply(lambda row: extract_fashion_keywords(row['cleaned_post_text']) if row['is_fashion_related'] else '', axis=1)\n",
    "\n",
    "# Save the results\n",
    "df.to_csv('/home/disk1/red_disk1/Multimodal_MKT/post_filtered.csv', index=False)\n"
   ]
  }
 ],
 "metadata": {
  "language_info": {
   "name": "python"
  }
 },
 "nbformat": 4,
 "nbformat_minor": 2
}
