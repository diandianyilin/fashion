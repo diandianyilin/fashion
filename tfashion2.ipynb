{
 "cells": [
  {
   "cell_type": "markdown",
   "metadata": {},
   "source": [
    "#### Expand your keyword list using RAKE (Rapid Automatic Keyword Extraction)\n",
    "1. Tokenize the keyword group column to break down fashion phrases into individual words.\n",
    "2. Apply RAKE to identify high-importance words from the tokenized text.\n",
    "3. Expand the fashion keyword list by combining tokenized words and extracted keywords."
   ]
  },
  {
   "cell_type": "code",
   "execution_count": 7,
   "metadata": {},
   "outputs": [
    {
     "name": "stderr",
     "output_type": "stream",
     "text": [
      "[nltk_data] Downloading package stopwords to\n",
      "[nltk_data]     /Users/ddyilin/nltk_data...\n",
      "[nltk_data]   Unzipping corpora/stopwords.zip.\n"
     ]
    },
    {
     "ename": "LookupError",
     "evalue": "\n**********************************************************************\n  Resource \u001b[93mpunkt_tab\u001b[0m not found.\n  Please use the NLTK Downloader to obtain the resource:\n\n  \u001b[31m>>> import nltk\n  >>> nltk.download('punkt_tab')\n  \u001b[0m\n  For more information see: https://www.nltk.org/data.html\n\n  Attempted to load \u001b[93mtokenizers/punkt_tab/english/\u001b[0m\n\n  Searched in:\n    - '/Users/ddyilin/nltk_data'\n    - '/Users/ddyilin/miniconda3/envs/d2l/nltk_data'\n    - '/Users/ddyilin/miniconda3/envs/d2l/share/nltk_data'\n    - '/Users/ddyilin/miniconda3/envs/d2l/lib/nltk_data'\n    - '/usr/share/nltk_data'\n    - '/usr/local/share/nltk_data'\n    - '/usr/lib/nltk_data'\n    - '/usr/local/lib/nltk_data'\n**********************************************************************\n",
     "output_type": "error",
     "traceback": [
      "\u001b[0;31m---------------------------------------------------------------------------\u001b[0m",
      "\u001b[0;31mLookupError\u001b[0m                               Traceback (most recent call last)",
      "Cell \u001b[0;32mIn[7], line 29\u001b[0m\n\u001b[1;32m     26\u001b[0m rake_extractor \u001b[38;5;241m=\u001b[39m Rake(language\u001b[38;5;241m=\u001b[39m\u001b[38;5;124m\"\u001b[39m\u001b[38;5;124mchinese\u001b[39m\u001b[38;5;124m\"\u001b[39m)  \u001b[38;5;66;03m# Specify 'chinese' for RAKE in Chinese text\u001b[39;00m\n\u001b[1;32m     28\u001b[0m \u001b[38;5;66;03m# Extract keywords from the tokenized corpus\u001b[39;00m\n\u001b[0;32m---> 29\u001b[0m \u001b[43mrake_extractor\u001b[49m\u001b[38;5;241;43m.\u001b[39;49m\u001b[43mextract_keywords_from_text\u001b[49m\u001b[43m(\u001b[49m\u001b[43mcorpus\u001b[49m\u001b[43m)\u001b[49m\n\u001b[1;32m     31\u001b[0m \u001b[38;5;66;03m# Get the top keywords and phrases identified by RAKE\u001b[39;00m\n\u001b[1;32m     32\u001b[0m ranked_keywords \u001b[38;5;241m=\u001b[39m rake_extractor\u001b[38;5;241m.\u001b[39mget_ranked_phrases()\n",
      "File \u001b[0;32m~/miniconda3/envs/d2l/lib/python3.9/site-packages/rake_nltk/rake.py:126\u001b[0m, in \u001b[0;36mRake.extract_keywords_from_text\u001b[0;34m(self, text)\u001b[0m\n\u001b[1;32m    121\u001b[0m \u001b[38;5;28;01mdef\u001b[39;00m \u001b[38;5;21mextract_keywords_from_text\u001b[39m(\u001b[38;5;28mself\u001b[39m, text: \u001b[38;5;28mstr\u001b[39m):\n\u001b[1;32m    122\u001b[0m \u001b[38;5;250m    \u001b[39m\u001b[38;5;124;03m\"\"\"Method to extract keywords from the text provided.\u001b[39;00m\n\u001b[1;32m    123\u001b[0m \n\u001b[1;32m    124\u001b[0m \u001b[38;5;124;03m    :param text: Text to extract keywords from, provided as a string.\u001b[39;00m\n\u001b[1;32m    125\u001b[0m \u001b[38;5;124;03m    \"\"\"\u001b[39;00m\n\u001b[0;32m--> 126\u001b[0m     sentences: List[Sentence] \u001b[38;5;241m=\u001b[39m \u001b[38;5;28;43mself\u001b[39;49m\u001b[38;5;241;43m.\u001b[39;49m\u001b[43m_tokenize_text_to_sentences\u001b[49m\u001b[43m(\u001b[49m\u001b[43mtext\u001b[49m\u001b[43m)\u001b[49m\n\u001b[1;32m    127\u001b[0m     \u001b[38;5;28mself\u001b[39m\u001b[38;5;241m.\u001b[39mextract_keywords_from_sentences(sentences)\n",
      "File \u001b[0;32m~/miniconda3/envs/d2l/lib/python3.9/site-packages/rake_nltk/rake.py:180\u001b[0m, in \u001b[0;36mRake._tokenize_text_to_sentences\u001b[0;34m(self, text)\u001b[0m\n\u001b[1;32m    172\u001b[0m \u001b[38;5;28;01mdef\u001b[39;00m \u001b[38;5;21m_tokenize_text_to_sentences\u001b[39m(\u001b[38;5;28mself\u001b[39m, text: \u001b[38;5;28mstr\u001b[39m) \u001b[38;5;241m-\u001b[39m\u001b[38;5;241m>\u001b[39m List[Sentence]:\n\u001b[1;32m    173\u001b[0m \u001b[38;5;250m    \u001b[39m\u001b[38;5;124;03m\"\"\"Tokenizes the given text string into sentences using the configured\u001b[39;00m\n\u001b[1;32m    174\u001b[0m \u001b[38;5;124;03m    sentence tokenizer. Configuration uses `nltk.tokenize.sent_tokenize`\u001b[39;00m\n\u001b[1;32m    175\u001b[0m \u001b[38;5;124;03m    by default.\u001b[39;00m\n\u001b[0;32m   (...)\u001b[0m\n\u001b[1;32m    178\u001b[0m \u001b[38;5;124;03m    :return: List of sentences as per the tokenizer used.\u001b[39;00m\n\u001b[1;32m    179\u001b[0m \u001b[38;5;124;03m    \"\"\"\u001b[39;00m\n\u001b[0;32m--> 180\u001b[0m     \u001b[38;5;28;01mreturn\u001b[39;00m \u001b[38;5;28;43mself\u001b[39;49m\u001b[38;5;241;43m.\u001b[39;49m\u001b[43msentence_tokenizer\u001b[49m\u001b[43m(\u001b[49m\u001b[43mtext\u001b[49m\u001b[43m)\u001b[49m\n",
      "File \u001b[0;32m~/miniconda3/envs/d2l/lib/python3.9/site-packages/nltk/tokenize/__init__.py:119\u001b[0m, in \u001b[0;36msent_tokenize\u001b[0;34m(text, language)\u001b[0m\n\u001b[1;32m    109\u001b[0m \u001b[38;5;28;01mdef\u001b[39;00m \u001b[38;5;21msent_tokenize\u001b[39m(text, language\u001b[38;5;241m=\u001b[39m\u001b[38;5;124m\"\u001b[39m\u001b[38;5;124menglish\u001b[39m\u001b[38;5;124m\"\u001b[39m):\n\u001b[1;32m    110\u001b[0m \u001b[38;5;250m    \u001b[39m\u001b[38;5;124;03m\"\"\"\u001b[39;00m\n\u001b[1;32m    111\u001b[0m \u001b[38;5;124;03m    Return a sentence-tokenized copy of *text*,\u001b[39;00m\n\u001b[1;32m    112\u001b[0m \u001b[38;5;124;03m    using NLTK's recommended sentence tokenizer\u001b[39;00m\n\u001b[0;32m   (...)\u001b[0m\n\u001b[1;32m    117\u001b[0m \u001b[38;5;124;03m    :param language: the model name in the Punkt corpus\u001b[39;00m\n\u001b[1;32m    118\u001b[0m \u001b[38;5;124;03m    \"\"\"\u001b[39;00m\n\u001b[0;32m--> 119\u001b[0m     tokenizer \u001b[38;5;241m=\u001b[39m \u001b[43m_get_punkt_tokenizer\u001b[49m\u001b[43m(\u001b[49m\u001b[43mlanguage\u001b[49m\u001b[43m)\u001b[49m\n\u001b[1;32m    120\u001b[0m     \u001b[38;5;28;01mreturn\u001b[39;00m tokenizer\u001b[38;5;241m.\u001b[39mtokenize(text)\n",
      "File \u001b[0;32m~/miniconda3/envs/d2l/lib/python3.9/site-packages/nltk/tokenize/__init__.py:105\u001b[0m, in \u001b[0;36m_get_punkt_tokenizer\u001b[0;34m(language)\u001b[0m\n\u001b[1;32m     96\u001b[0m \u001b[38;5;129m@functools\u001b[39m\u001b[38;5;241m.\u001b[39mlru_cache\n\u001b[1;32m     97\u001b[0m \u001b[38;5;28;01mdef\u001b[39;00m \u001b[38;5;21m_get_punkt_tokenizer\u001b[39m(language\u001b[38;5;241m=\u001b[39m\u001b[38;5;124m\"\u001b[39m\u001b[38;5;124menglish\u001b[39m\u001b[38;5;124m\"\u001b[39m):\n\u001b[1;32m     98\u001b[0m \u001b[38;5;250m    \u001b[39m\u001b[38;5;124;03m\"\"\"\u001b[39;00m\n\u001b[1;32m     99\u001b[0m \u001b[38;5;124;03m    A constructor for the PunktTokenizer that utilizes\u001b[39;00m\n\u001b[1;32m    100\u001b[0m \u001b[38;5;124;03m    a lru cache for performance.\u001b[39;00m\n\u001b[0;32m   (...)\u001b[0m\n\u001b[1;32m    103\u001b[0m \u001b[38;5;124;03m    :type language: str\u001b[39;00m\n\u001b[1;32m    104\u001b[0m \u001b[38;5;124;03m    \"\"\"\u001b[39;00m\n\u001b[0;32m--> 105\u001b[0m     \u001b[38;5;28;01mreturn\u001b[39;00m \u001b[43mPunktTokenizer\u001b[49m\u001b[43m(\u001b[49m\u001b[43mlanguage\u001b[49m\u001b[43m)\u001b[49m\n",
      "File \u001b[0;32m~/miniconda3/envs/d2l/lib/python3.9/site-packages/nltk/tokenize/punkt.py:1744\u001b[0m, in \u001b[0;36mPunktTokenizer.__init__\u001b[0;34m(self, lang)\u001b[0m\n\u001b[1;32m   1742\u001b[0m \u001b[38;5;28;01mdef\u001b[39;00m \u001b[38;5;21m__init__\u001b[39m(\u001b[38;5;28mself\u001b[39m, lang\u001b[38;5;241m=\u001b[39m\u001b[38;5;124m\"\u001b[39m\u001b[38;5;124menglish\u001b[39m\u001b[38;5;124m\"\u001b[39m):\n\u001b[1;32m   1743\u001b[0m     PunktSentenceTokenizer\u001b[38;5;241m.\u001b[39m\u001b[38;5;21m__init__\u001b[39m(\u001b[38;5;28mself\u001b[39m)\n\u001b[0;32m-> 1744\u001b[0m     \u001b[38;5;28;43mself\u001b[39;49m\u001b[38;5;241;43m.\u001b[39;49m\u001b[43mload_lang\u001b[49m\u001b[43m(\u001b[49m\u001b[43mlang\u001b[49m\u001b[43m)\u001b[49m\n",
      "File \u001b[0;32m~/miniconda3/envs/d2l/lib/python3.9/site-packages/nltk/tokenize/punkt.py:1749\u001b[0m, in \u001b[0;36mPunktTokenizer.load_lang\u001b[0;34m(self, lang)\u001b[0m\n\u001b[1;32m   1746\u001b[0m \u001b[38;5;28;01mdef\u001b[39;00m \u001b[38;5;21mload_lang\u001b[39m(\u001b[38;5;28mself\u001b[39m, lang\u001b[38;5;241m=\u001b[39m\u001b[38;5;124m\"\u001b[39m\u001b[38;5;124menglish\u001b[39m\u001b[38;5;124m\"\u001b[39m):\n\u001b[1;32m   1747\u001b[0m     \u001b[38;5;28;01mfrom\u001b[39;00m \u001b[38;5;21;01mnltk\u001b[39;00m\u001b[38;5;21;01m.\u001b[39;00m\u001b[38;5;21;01mdata\u001b[39;00m \u001b[38;5;28;01mimport\u001b[39;00m find\n\u001b[0;32m-> 1749\u001b[0m     lang_dir \u001b[38;5;241m=\u001b[39m \u001b[43mfind\u001b[49m\u001b[43m(\u001b[49m\u001b[38;5;124;43mf\u001b[39;49m\u001b[38;5;124;43m\"\u001b[39;49m\u001b[38;5;124;43mtokenizers/punkt_tab/\u001b[39;49m\u001b[38;5;132;43;01m{\u001b[39;49;00m\u001b[43mlang\u001b[49m\u001b[38;5;132;43;01m}\u001b[39;49;00m\u001b[38;5;124;43m/\u001b[39;49m\u001b[38;5;124;43m\"\u001b[39;49m\u001b[43m)\u001b[49m\n\u001b[1;32m   1750\u001b[0m     \u001b[38;5;28mself\u001b[39m\u001b[38;5;241m.\u001b[39m_params \u001b[38;5;241m=\u001b[39m load_punkt_params(lang_dir)\n\u001b[1;32m   1751\u001b[0m     \u001b[38;5;28mself\u001b[39m\u001b[38;5;241m.\u001b[39m_lang \u001b[38;5;241m=\u001b[39m lang\n",
      "File \u001b[0;32m~/miniconda3/envs/d2l/lib/python3.9/site-packages/nltk/data.py:579\u001b[0m, in \u001b[0;36mfind\u001b[0;34m(resource_name, paths)\u001b[0m\n\u001b[1;32m    577\u001b[0m sep \u001b[38;5;241m=\u001b[39m \u001b[38;5;124m\"\u001b[39m\u001b[38;5;124m*\u001b[39m\u001b[38;5;124m\"\u001b[39m \u001b[38;5;241m*\u001b[39m \u001b[38;5;241m70\u001b[39m\n\u001b[1;32m    578\u001b[0m resource_not_found \u001b[38;5;241m=\u001b[39m \u001b[38;5;124mf\u001b[39m\u001b[38;5;124m\"\u001b[39m\u001b[38;5;130;01m\\n\u001b[39;00m\u001b[38;5;132;01m{\u001b[39;00msep\u001b[38;5;132;01m}\u001b[39;00m\u001b[38;5;130;01m\\n\u001b[39;00m\u001b[38;5;132;01m{\u001b[39;00mmsg\u001b[38;5;132;01m}\u001b[39;00m\u001b[38;5;130;01m\\n\u001b[39;00m\u001b[38;5;132;01m{\u001b[39;00msep\u001b[38;5;132;01m}\u001b[39;00m\u001b[38;5;130;01m\\n\u001b[39;00m\u001b[38;5;124m\"\u001b[39m\n\u001b[0;32m--> 579\u001b[0m \u001b[38;5;28;01mraise\u001b[39;00m \u001b[38;5;167;01mLookupError\u001b[39;00m(resource_not_found)\n",
      "\u001b[0;31mLookupError\u001b[0m: \n**********************************************************************\n  Resource \u001b[93mpunkt_tab\u001b[0m not found.\n  Please use the NLTK Downloader to obtain the resource:\n\n  \u001b[31m>>> import nltk\n  >>> nltk.download('punkt_tab')\n  \u001b[0m\n  For more information see: https://www.nltk.org/data.html\n\n  Attempted to load \u001b[93mtokenizers/punkt_tab/english/\u001b[0m\n\n  Searched in:\n    - '/Users/ddyilin/nltk_data'\n    - '/Users/ddyilin/miniconda3/envs/d2l/nltk_data'\n    - '/Users/ddyilin/miniconda3/envs/d2l/share/nltk_data'\n    - '/Users/ddyilin/miniconda3/envs/d2l/lib/nltk_data'\n    - '/usr/share/nltk_data'\n    - '/usr/local/share/nltk_data'\n    - '/usr/lib/nltk_data'\n    - '/usr/local/lib/nltk_data'\n**********************************************************************\n"
     ]
    }
   ],
   "source": [
    "import pandas as pd\n",
    "import jieba\n",
    "import rake_nltk\n",
    "from rake_nltk import Rake\n",
    "import nltk\n",
    "nltk.download('stopwords')\n",
    "\n",
    "# Load the topics0611_filtered.csv file\n",
    "fashion_keywords_df = pd.read_csv('/Users/ddyilin/Documents/GitHub/fashion/topics0611.csv')\n",
    "\n",
    "# Step 1: Tokenize the 'keyword group' column\n",
    "def tokenize_keywords(text):\n",
    "    tokens = jieba.lcut(text)\n",
    "    return tokens\n",
    "\n",
    "# Apply tokenization to the 'keyword group' column\n",
    "fashion_keywords_df['tokenized_keywords'] = fashion_keywords_df['keyword group'].apply(lambda x: tokenize_keywords(str(x)))\n",
    "\n",
    "# Step 2: Combine all tokenized words into a single list for keyword extraction\n",
    "all_tokenized_keywords = [token for sublist in fashion_keywords_df['tokenized_keywords'] for token in sublist]\n",
    "\n",
    "# Join the tokenized words to create a corpus for RAKE keyword extraction\n",
    "corpus = ' '.join(all_tokenized_keywords)\n",
    "\n",
    "# Step 3: Use RAKE to extract important keywords from the tokenized corpus\n",
    "rake_extractor = Rake(language=\"chinese\")  # Specify 'chinese' for RAKE in Chinese text\n",
    "\n",
    "# Extract keywords from the tokenized corpus\n",
    "rake_extractor.extract_keywords_from_text(corpus)\n",
    "\n",
    "# Get the top keywords and phrases identified by RAKE\n",
    "ranked_keywords = rake_extractor.get_ranked_phrases()\n",
    "\n",
    "# Step 4: Combine the tokenized keywords with the extracted keywords for the expanded keyword list\n",
    "expanded_fashion_keywords = set(all_tokenized_keywords + ranked_keywords)\n",
    "\n",
    "# Save the expanded keyword list to a CSV file\n",
    "expanded_keywords_df = pd.DataFrame(list(expanded_fashion_keywords), columns=['fashion_keywords'])\n",
    "expanded_keywords_df.to_csv('/Users/ddyilin/Documents/GitHub/fashion/expanded_fashion_keywords.csv', index=False)\n",
    "\n",
    "# Output the number of expanded fashion keywords\n",
    "print(f\"Number of expanded fashion keywords: {len(expanded_fashion_keywords)}\")\n"
   ]
  },
  {
   "cell_type": "code",
   "execution_count": null,
   "metadata": {},
   "outputs": [],
   "source": []
  },
  {
   "cell_type": "markdown",
   "metadata": {},
   "source": [
    "#### Get a non-fashion Chinese corpus\n",
    "- Chinese Wikipedia Dump\n",
    "- Use WikiExtractor to convert the XML dump into plain text\n",
    "- Get extracted_texts\n",
    "- Filter Non-Fashion Content from the Extracted Texts, using fashion keywords"
   ]
  },
  {
   "cell_type": "code",
   "execution_count": null,
   "metadata": {},
   "outputs": [],
   "source": [
    "import pandas as pd\n",
    "\n",
    "# Load the topics0611.csv file\n",
    "fashion_keywords_df = pd.read_csv('/Users/ddyilin/Documents/GitHub/fashion/topics0611_filtered.csv')\n",
    "\n",
    "# Extract the 'keyword group' column as a list of fashion-related keywords\n",
    "# Convert all values to strings and drop NaN values\n",
    "fashion_keywords = fashion_keywords_df['keyword group'].dropna().astype(str).tolist()\n"
   ]
  },
  {
   "cell_type": "code",
   "execution_count": null,
   "metadata": {},
   "outputs": [],
   "source": [
    "# Filter Out Fashion-Related Content\n",
    "import os\n",
    "\n",
    "def filter_non_fashion_texts(input_dir, output_dir, fashion_keywords):\n",
    "    if not os.path.exists(output_dir):\n",
    "        os.makedirs(output_dir)\n",
    "    \n",
    "    for foldername in os.listdir(input_dir):\n",
    "        folder_path = os.path.join(input_dir, foldername)\n",
    "        if os.path.isdir(folder_path):\n",
    "            output_folder_path = os.path.join(output_dir, foldername)\n",
    "            os.makedirs(output_folder_path, exist_ok=True)\n",
    "            \n",
    "            for filename in os.listdir(folder_path):\n",
    "                input_file_path = os.path.join(folder_path, filename)\n",
    "                output_file_path = os.path.join(output_folder_path, filename)\n",
    "                \n",
    "                with open(input_file_path, 'r', encoding='utf-8') as infile, open(output_file_path, 'w', encoding='utf-8') as outfile:\n",
    "                    for line in infile:\n",
    "                        # Ensure that the comparison is between strings\n",
    "                        if not any(keyword in line for keyword in fashion_keywords):\n",
    "                            outfile.write(line)\n",
    "\n",
    "input_dir = '/Users/ddyilin/Documents/GitHub/fashion/extracted_texts'\n",
    "output_dir = '/Users/ddyilin/Documents/GitHub/fashion/non_fashion_texts'\n",
    "\n",
    "filter_non_fashion_texts(input_dir, output_dir, fashion_keywords)\n"
   ]
  },
  {
   "cell_type": "markdown",
   "metadata": {},
   "source": [
    "#### Prepare Data for Model Training\n",
    "- Tokenize the Non-Fashion Texts\n",
    "- Combine with Fashion-Related Tokens"
   ]
  },
  {
   "cell_type": "code",
   "execution_count": null,
   "metadata": {},
   "outputs": [],
   "source": [
    "from transformers import BertTokenizer\n",
    "import torch\n",
    "import os\n",
    "import random\n",
    "\n",
    "# Initialize the BERT tokenizer\n",
    "tokenizer = BertTokenizer.from_pretrained('bert-base-chinese')\n",
    "\n",
    "def tokenize_corpus(directory, max_length):\n",
    "    all_lines = []\n",
    "    for foldername in os.listdir(directory):\n",
    "        folder_path = os.path.join(directory, foldername)\n",
    "        if os.path.isdir(folder_path):\n",
    "            for filename in os.listdir(folder_path):\n",
    "                file_path = os.path.join(folder_path, filename)\n",
    "                with open(file_path, 'r', encoding='utf-8') as file:\n",
    "                    # Collect all lines to tokenize them at once, skipping blank lines\n",
    "                    all_lines.extend([line.strip() for line in file if line.strip() != \"\"])\n",
    "    \n",
    "    # Tokenize all lines with padding and truncation to a fixed max length\n",
    "    tokenized_texts = tokenizer(all_lines, padding=True, truncation=True, max_length=max_length, return_tensors='pt')\n",
    "    \n",
    "    # Manually adjust padding to ensure uniform sequence length\n",
    "    input_ids = torch.nn.functional.pad(tokenized_texts['input_ids'], (0, max_length - tokenized_texts['input_ids'].size(1)), value=0)\n",
    "    attention_mask = torch.nn.functional.pad(tokenized_texts['attention_mask'], (0, max_length - tokenized_texts['attention_mask'].size(1)), value=0)\n",
    "    \n",
    "    return {'input_ids': input_ids, 'attention_mask': attention_mask}\n",
    "\n",
    "# Set a max length for all tokenized sequences\n",
    "max_length = 512  \n",
    "\n",
    "# Tokenize non-fashion related texts\n",
    "non_fashion_tokens = tokenize_corpus('/Users/ddyilin/Documents/GitHub/fashion/non_fashion_texts', max_length)\n",
    "\n",
    "# Assuming fashion_keywords is a list of strings\n",
    "fashion_tokens = tokenizer(fashion_keywords, padding=True, truncation=True, max_length=max_length, return_tensors='pt')\n",
    "\n",
    "# Combine the tokenized non-fashion and fashion tokens\n",
    "combined_input_ids = torch.cat((non_fashion_tokens['input_ids'], fashion_tokens['input_ids']), dim=0)\n",
    "combined_attention_mask = torch.cat((non_fashion_tokens['attention_mask'], fashion_tokens['attention_mask']), dim=0)\n",
    "\n",
    "# If token_type_ids are available, concatenate them as well\n",
    "if 'token_type_ids' in non_fashion_tokens and 'token_type_ids' in fashion_tokens:\n",
    "    combined_token_type_ids = torch.cat((non_fashion_tokens['token_type_ids'], fashion_tokens['token_type_ids']), dim=0)\n",
    "else:\n",
    "    combined_token_type_ids = None\n",
    "\n",
    "# Label fashion-related texts as 1 and non-fashion-related texts as 0\n",
    "fashion_labels = [1] * fashion_tokens['input_ids'].shape[0]\n",
    "non_fashion_labels = [0] * non_fashion_tokens['input_ids'].shape[0]\n",
    "\n",
    "# Combine the labels\n",
    "all_labels = fashion_labels + non_fashion_labels\n",
    "\n",
    "# Shuffle the dataset\n",
    "combined = list(zip(combined_input_ids, combined_attention_mask, all_labels))\n",
    "random.shuffle(combined)\n",
    "\n",
    "# Unzip the shuffled dataset\n",
    "all_input_ids, all_attention_mask, all_labels = zip(*combined)\n",
    "\n",
    "# Convert back to tensors\n",
    "all_input_ids = torch.stack(all_input_ids)\n",
    "all_attention_mask = torch.stack(all_attention_mask)\n",
    "all_labels = torch.tensor(all_labels)\n",
    "\n",
    "# If token_type_ids are used, shuffle and stack them too\n",
    "if combined_token_type_ids is not None:\n",
    "    combined_token_type_ids = list(zip(combined_token_type_ids))\n",
    "    random.shuffle(combined_token_type_ids)\n",
    "    all_token_type_ids = torch.stack([item[0] for item in combined_token_type_ids])\n",
    "else:\n",
    "    all_token_type_ids = None\n",
    "\n",
    "# Print shapes for verification\n",
    "print(\"Input IDs shape:\", all_input_ids.shape)\n",
    "print(\"Attention Mask shape:\", all_attention_mask.shape)\n",
    "if all_token_type_ids is not None:\n",
    "    print(\"Token Type IDs shape:\", all_token_type_ids.shape)\n",
    "print(\"Labels shape:\", all_labels.shape)\n"
   ]
  },
  {
   "cell_type": "markdown",
   "metadata": {},
   "source": [
    "#### Train the Model\n",
    "- Split the Data into Training and Validation Sets\n",
    "- Fine-Tune BERT"
   ]
  },
  {
   "cell_type": "code",
   "execution_count": null,
   "metadata": {},
   "outputs": [],
   "source": [
    "from sklearn.model_selection import train_test_split\n",
    "import torch\n",
    "from transformers import BertForSequenceClassification, Trainer, TrainingArguments\n",
    "\n",
    "# Ensure all_input_ids, all_attention_mask, and all_labels are tensors\n",
    "all_input_ids = torch.tensor(all_input_ids)\n",
    "all_attention_mask = torch.tensor(all_attention_mask)\n",
    "all_labels = torch.tensor(all_labels)\n",
    "\n",
    "# If token_type_ids is used, ensure it's a tensor too\n",
    "if all_token_type_ids is not None:\n",
    "    all_token_type_ids = torch.tensor(all_token_type_ids)\n",
    "\n",
    "# Split the data into training and validation sets, ensuring consistency across all inputs\n",
    "split_data = [all_input_ids, all_attention_mask, all_labels]\n",
    "if all_token_type_ids is not None:\n",
    "    split_data.append(all_token_type_ids)\n",
    "\n",
    "train_inputs, val_inputs, train_masks, val_masks, train_labels, val_labels = train_test_split(\n",
    "    *split_data, test_size=0.2, random_state=42)\n",
    "\n",
    "# If token_type_ids are used, split them as well\n",
    "if all_token_type_ids is not None:\n",
    "    train_token_type_ids, val_token_type_ids = train_test_split(all_token_type_ids, test_size=0.2, random_state=42)\n",
    "else:\n",
    "    train_token_type_ids, val_token_type_ids = None, None\n",
    "\n",
    "# Convert splits into PyTorch tensors (no need to re-convert if already tensors)\n",
    "# Combine inputs, masks, and labels into a TensorDataset\n",
    "if train_token_type_ids is not None:\n",
    "    train_dataset = torch.utils.data.TensorDataset(train_inputs, train_masks, train_token_type_ids, train_labels)\n",
    "    val_dataset = torch.utils.data.TensorDataset(val_inputs, val_masks, val_token_type_ids, val_labels)\n",
    "else:\n",
    "    train_dataset = torch.utils.data.TensorDataset(train_inputs, train_masks, train_labels)\n",
    "    val_dataset = torch.utils.data.TensorDataset(val_inputs, val_masks, val_labels)\n",
    "\n",
    "# Print out the shapes of the datasets to verify\n",
    "print(\"Train input_ids shape:\", train_inputs.shape)\n",
    "print(\"Validation input_ids shape:\", val_inputs.shape)\n",
    "print(\"Train labels shape:\", train_labels.shape)\n",
    "print(\"Validation labels shape:\", val_labels.shape)\n",
    "print(\"Train attention masks shape:\", train_masks.shape)\n",
    "print(\"Validation attention masks shape:\", val_masks.shape)\n",
    "if train_token_type_ids is not None:\n",
    "    print(\"Train token type ids shape:\", train_token_type_ids.shape)\n",
    "    print(\"Validation token type ids shape:\", val_token_type_ids.shape)\n",
    "\n"
   ]
  },
  {
   "cell_type": "markdown",
   "metadata": {},
   "source": [
    "#### Check data before training\n",
    "- Check Data Shapes\n",
    "- Check for Any 'NaN' Values\n",
    "- Check Data Distribution\n",
    "- Inspect a Few Examples\n",
    "- Check Label Value Range\n",
    "- Verify Dataset Splitting\n",
    "- Check for Duplicates"
   ]
  },
  {
   "cell_type": "code",
   "execution_count": null,
   "metadata": {},
   "outputs": [],
   "source": [
    "print(\"Input IDs shape:\", all_input_ids.shape)\n",
    "print(\"Attention Mask shape:\", all_attention_mask.shape)\n",
    "print(\"Labels shape:\", all_labels.shape)\n",
    "\n",
    "# If token_type_ids are used\n",
    "if all_token_type_ids is not None:\n",
    "    print(\"Token Type IDs shape:\", all_token_type_ids.shape)"
   ]
  },
  {
   "cell_type": "code",
   "execution_count": null,
   "metadata": {},
   "outputs": [],
   "source": [
    "import torch\n",
    "\n",
    "# Check for NaNs in input_ids\n",
    "print(\"NaNs in Input IDs:\", torch.isnan(all_input_ids).any().item())\n",
    "\n",
    "# Check for NaNs in attention_mask\n",
    "print(\"NaNs in Attention Mask:\", torch.isnan(all_attention_mask).any().item())\n",
    "\n",
    "# Check for NaNs in labels\n",
    "print(\"NaNs in Labels:\", torch.isnan(all_labels).any().item())\n",
    "\n",
    "# If using token_type_ids\n",
    "if all_token_type_ids is not None:\n",
    "    print(\"NaNs in Token Type IDs:\", torch.isnan(all_token_type_ids).any().item())\n"
   ]
  },
  {
   "cell_type": "code",
   "execution_count": null,
   "metadata": {},
   "outputs": [],
   "source": [
    "from collections import Counter\n",
    "\n",
    "label_counts = Counter(all_labels.tolist())\n",
    "print(\"Label distribution:\", label_counts)\n"
   ]
  },
  {
   "cell_type": "code",
   "execution_count": null,
   "metadata": {},
   "outputs": [],
   "source": [
    "for i in range(5):  # Check first 5 examples\n",
    "    print(f\"Example {i + 1}:\")\n",
    "    print(\"Input IDs:\", all_input_ids[i])\n",
    "    print(\"Attention Mask:\", all_attention_mask[i])\n",
    "    print(\"Label:\", all_labels[i])\n",
    "    if all_token_type_ids is not None:\n",
    "        print(\"Token Type IDs:\", all_token_type_ids[i])\n",
    "    print(\"-\" * 50)\n"
   ]
  },
  {
   "cell_type": "code",
   "execution_count": null,
   "metadata": {},
   "outputs": [],
   "source": [
    "print(\"Unique labels:\", set(all_labels.tolist()))\n"
   ]
  },
  {
   "cell_type": "code",
   "execution_count": null,
   "metadata": {},
   "outputs": [],
   "source": [
    "print(\"Train inputs shape:\", train_inputs.shape)\n",
    "print(\"Validation inputs shape:\", val_inputs.shape)\n",
    "print(\"Train labels shape:\", train_labels.shape)\n",
    "print(\"Validation labels shape:\", val_labels.shape)\n"
   ]
  },
  {
   "cell_type": "code",
   "execution_count": null,
   "metadata": {},
   "outputs": [],
   "source": [
    "unique_input_ids = torch.unique(all_input_ids, dim=0)\n",
    "print(\"Number of unique input IDs:\", unique_input_ids.shape[0])\n"
   ]
  },
  {
   "cell_type": "code",
   "execution_count": null,
   "metadata": {},
   "outputs": [],
   "source": [
    "from torch.utils.data import DataLoader\n",
    "\n",
    "# Custom data collator that returns the batch directly\n",
    "def custom_data_collator(batch):\n",
    "    input_ids, attention_mask, labels = tuple(torch.stack(samples) for samples in zip(*batch))\n",
    "    return {'input_ids': input_ids, 'attention_mask': attention_mask, 'labels': labels}\n",
    "\n",
    "# If using token_type_ids\n",
    "if train_token_type_ids is not None:\n",
    "    def custom_data_collator(batch):\n",
    "        input_ids, attention_mask, token_type_ids, labels = tuple(torch.stack(samples) for samples in zip(*batch))\n",
    "        return {\n",
    "            'input_ids': input_ids,\n",
    "            'attention_mask': attention_mask,\n",
    "            'token_type_ids': token_type_ids,\n",
    "            'labels': labels\n",
    "        }\n",
    "\n",
    "# DataLoader for the datasets\n",
    "train_dataloader = DataLoader(train_dataset, batch_size=16, shuffle=True, collate_fn=custom_data_collator)\n",
    "val_dataloader = DataLoader(val_dataset, batch_size=16, shuffle=False, collate_fn=custom_data_collator)\n"
   ]
  },
  {
   "cell_type": "markdown",
   "metadata": {},
   "source": [
    "#### Start Fine tune BERT\n",
    "- Train BERT for Sequence Classification: classify whether a sentence or post is fashion-related"
   ]
  },
  {
   "cell_type": "code",
   "execution_count": null,
   "metadata": {},
   "outputs": [],
   "source": [
    "from transformers import BertTokenizer, BertForSequenceClassification, Trainer, TrainingArguments\n",
    "import torch\n",
    "from sklearn.model_selection import train_test_split\n",
    "\n",
    "# Load the BERT model and tokenizer\n",
    "model = BertForSequenceClassification.from_pretrained('bert-base-chinese', num_labels=2)\n",
    "tokenizer = BertTokenizer.from_pretrained('bert-base-chinese')\n",
    "\n",
    "# Training arguments\n",
    "training_args = TrainingArguments(\n",
    "    output_dir='./results',\n",
    "    num_train_epochs=5,\n",
    "    per_device_train_batch_size=8,\n",
    "    per_device_eval_batch_size=8,\n",
    "    learning_rate=2e-5,\n",
    "    warmup_steps=500,\n",
    "    weight_decay=0.03,\n",
    "    logging_dir='./logs',\n",
    "    logging_steps=10,\n",
    "    eval_strategy=\"epoch\",\n",
    "    gradient_accumulation_steps=2,\n",
    "    max_grad_norm=1.0,\n",
    "    save_total_limit=3,\n",
    "    load_best_model_at_end=True,\n",
    "    metric_for_best_model=\"eval_loss\",\n",
    "    greater_is_better=False\n",
    ")\n",
    "\n",
    "# Assuming you already have train_dataset and val_dataset\n",
    "trainer = Trainer(\n",
    "    model=model,\n",
    "    args=training_args,\n",
    "    train_dataset=train_dataset,\n",
    "    eval_dataset=val_dataset,\n",
    ")\n",
    "\n",
    "# Train the model\n",
    "trainer.train()\n"
   ]
  },
  {
   "cell_type": "markdown",
   "metadata": {},
   "source": [
    "#### Evaluate and Save the Model\n",
    "- input: post_cleaned.csv\n",
    "- output: post_filtered.csv"
   ]
  },
  {
   "cell_type": "code",
   "execution_count": null,
   "metadata": {},
   "outputs": [],
   "source": [
    "model.save_pretrained('/Users/ddyilin/Documents/GitHub/fashion')\n"
   ]
  },
  {
   "cell_type": "code",
   "execution_count": null,
   "metadata": {},
   "outputs": [],
   "source": [
    "# Evaluate the model on the validation dataset\n",
    "eval_results = trainer.evaluate()\n",
    "\n",
    "# Print the evaluation results\n",
    "print(\"Evaluation Results:\", eval_results)\n"
   ]
  },
  {
   "cell_type": "markdown",
   "metadata": {},
   "source": [
    "## Apply the model\n"
   ]
  },
  {
   "cell_type": "markdown",
   "metadata": {},
   "source": [
    "#### Prepare post data\n",
    "- Combine 'post_title' and 'post_content' into 'post_text'\n",
    "- Clean and Tokenize 'post_text'"
   ]
  },
  {
   "cell_type": "code",
   "execution_count": null,
   "metadata": {},
   "outputs": [],
   "source": [
    "import pandas as pd\n",
    "\n",
    "# Load the data\n",
    "df = pd.read_csv('/home/disk1/red_disk1/Multimodal_MKT/poster_test_fashion_nlpclean.csv')\n",
    "# df = pd.read_csv('/home/disk1/red_disk1/poster_9305.csv')\n",
    "\n",
    "# Combine 'post_title' and 'post_content' into 'post_text'\n",
    "df['post_text'] = df['post_title'].fillna('') + ' ' + df['post_content'].fillna('')\n",
    "\n",
    "# Drop 'post_title' and 'post_content' columns\n",
    "df = df.drop(columns=['post_title', 'post_content', 'post_tag'])\n",
    "\n",
    "# Save the updated DataFrame\n",
    "# df.to_csv('/home/disk1/red_disk1/Multimodal_MKT/poster_9305_combined.csv', index=False)\n",
    "df.to_csv('/home/disk1/red_disk1/Multimodal_MKT/poster_test_fashion_nlpclean_combined.csv', index=False)\n"
   ]
  },
  {
   "cell_type": "code",
   "execution_count": null,
   "metadata": {},
   "outputs": [],
   "source": [
    "import emoji\n",
    "import re\n",
    "\n",
    "# Load stopwords from the provided file\n",
    "with open('/home/disk1/red_disk1/Multimodal_MKT/stopwords_cn.txt', 'r', encoding='utf-8') as f:\n",
    "    stopwords = set(f.read().splitlines())\n",
    "\n",
    "# Function for text cleaning\n",
    "def clean_text(text, stopwords):\n",
    "    # Convert emojis to text\n",
    "    text = emoji.demojize(text)\n",
    "    \n",
    "    # Remove specific patterns\n",
    "    text = re.sub(r'- 小红书,,', '', text)  # Removing \"- 小红书,,\"\n",
    "    text = re.sub(r'小红书', '', text)  # Explicitly remove \"小红书\"\n",
    "    text = re.sub(r',,\\d{2}-\\d{2},,', '', text)  # Removing patterns like \",,XX-XX,,\"\n",
    "    text = re.sub(r'#', ' ', text)  # Replace '#' with a space\n",
    "    \n",
    "    # Remove digits\n",
    "    text = re.sub(r'\\d+', '', text)\n",
    "    \n",
    "    # Remove special characters\n",
    "    cleaned_text = ''.join(char for char in text if char.isalnum() or char.isspace())\n",
    "    \n",
    "    # Remove stopwords (word-based removal)\n",
    "    cleaned_text = ' '.join([word for word in cleaned_text.split() if word not in stopwords])\n",
    "    \n",
    "    return cleaned_text\n",
    "\n",
    "# Apply cleaning function to 'post_text'\n",
    "df['cleaned_post_text'] = df['post_text'].apply(lambda x: clean_text(str(x), stopwords))\n",
    "\n",
    "# Remove duplicates\n",
    "df = df.drop_duplicates()\n",
    "\n",
    "# Save the cleaned DataFrame\n",
    "df.to_csv('/home/disk1/red_disk1/Multimodal_MKT/post_cleaned.csv', index=False)\n"
   ]
  },
  {
   "cell_type": "markdown",
   "metadata": {},
   "source": [
    "#### Filter Non-Fashion Words Using the Model\n",
    "- Use the Trained Model to Classify Fashion-Related Content"
   ]
  },
  {
   "cell_type": "code",
   "execution_count": null,
   "metadata": {},
   "outputs": [],
   "source": [
    "# Set the model to evaluation mode\n",
    "model.eval()\n",
    "\n",
    "def classify_fashion_text(text, model, tokenizer):\n",
    "    inputs = tokenizer(text, return_tensors='pt', truncation=True, padding=True, max_length=512)\n",
    "    with torch.no_grad():\n",
    "        outputs = model(**inputs)\n",
    "    logits = outputs.logits\n",
    "    predicted_label = torch.argmax(logits, dim=1).item()\n",
    "    return predicted_label == 1  # Returns True if the text is fashion-related\n",
    "\n",
    "# Apply classification to the 'cleaned_post_text'\n",
    "df['is_fashion_related'] = df['cleaned_post_text'].apply(lambda x: classify_fashion_text(x, model, tokenizer))\n"
   ]
  },
  {
   "cell_type": "markdown",
   "metadata": {},
   "source": [
    "- Apply Keyword Extraction (RAKE) on Fashion-Related Texts"
   ]
  },
  {
   "cell_type": "code",
   "execution_count": null,
   "metadata": {},
   "outputs": [],
   "source": [
    "from rake_nltk import Rake\n",
    "\n",
    "# Initialize RAKE for keyword extraction\n",
    "r = Rake()\n",
    "\n",
    "def extract_fashion_keywords(text):\n",
    "    r.extract_keywords_from_text(text)\n",
    "    return r.get_ranked_phrases()  # Returns a list of keywords\n",
    "\n",
    "# Apply RAKE keyword extraction to fashion-related texts\n",
    "df['fashion_keywords'] = df.apply(lambda row: extract_fashion_keywords(row['cleaned_post_text']) if row['is_fashion_related'] else '', axis=1)\n",
    "\n",
    "# Save the results\n",
    "df.to_csv('/home/disk1/red_disk1/Multimodal_MKT/post_filtered.csv', index=False)\n"
   ]
  }
 ],
 "metadata": {
  "kernelspec": {
   "display_name": "d2l",
   "language": "python",
   "name": "python3"
  },
  "language_info": {
   "codemirror_mode": {
    "name": "ipython",
    "version": 3
   },
   "file_extension": ".py",
   "mimetype": "text/x-python",
   "name": "python",
   "nbconvert_exporter": "python",
   "pygments_lexer": "ipython3",
   "version": "3.9.19"
  }
 },
 "nbformat": 4,
 "nbformat_minor": 2
}
