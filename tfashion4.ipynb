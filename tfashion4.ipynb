{
 "cells": [
  {
   "cell_type": "markdown",
   "metadata": {},
   "source": [
    "# Softer Matching\n",
    "- a matching strategy based on cosine similarity using BERT embeddings\n",
    "- input: topics_filtered.csv (expanded), post_cleaned.csv\n",
    "- output: post_filtered.csv"
   ]
  },
  {
   "cell_type": "code",
   "execution_count": 1,
   "metadata": {},
   "outputs": [
    {
     "name": "stderr",
     "output_type": "stream",
     "text": [
      "/Users/ddyilin/miniconda3/envs/d2l/lib/python3.9/site-packages/tqdm/auto.py:21: TqdmWarning: IProgress not found. Please update jupyter and ipywidgets. See https://ipywidgets.readthedocs.io/en/stable/user_install.html\n",
      "  from .autonotebook import tqdm as notebook_tqdm\n",
      "/Users/ddyilin/miniconda3/envs/d2l/lib/python3.9/site-packages/transformers/tokenization_utils_base.py:1601: FutureWarning: `clean_up_tokenization_spaces` was not set. It will be set to `True` by default. This behavior will be depracted in transformers v4.45, and will be then set to `False` by default. For more details check this issue: https://github.com/huggingface/transformers/issues/31884\n",
      "  warnings.warn(\n"
     ]
    }
   ],
   "source": [
    "import pandas as pd\n",
    "import torch\n",
    "from transformers import BertTokenizer, BertModel\n",
    "from sklearn.metrics.pairwise import cosine_similarity\n",
    "import numpy as np\n",
    "\n",
    "# Load BERT model and tokenizer\n",
    "tokenizer = BertTokenizer.from_pretrained('bert-base-chinese')\n",
    "model = BertModel.from_pretrained('bert-base-chinese')\n",
    "\n",
    "# Function to get word embeddings from BERT\n",
    "def get_word_embedding(word):\n",
    "    inputs = tokenizer(word, return_tensors=\"pt\", truncation=True, padding=True)\n",
    "    with torch.no_grad():\n",
    "        outputs = model(**inputs)\n",
    "    return outputs.last_hidden_state.mean(dim=1).squeeze().numpy()\n",
    "\n",
    "# Load the fashion lexicon from 'topics_filtered.csv'\n",
    "fashion_lexicon_df = pd.read_csv('/Users/ddyilin/Documents/GitHub/fashion/topics_filtered.csv')\n",
    "fashion_keywords = set(fashion_lexicon_df['keyword group'].dropna().astype(str))\n",
    "\n",
    "# Precompute embeddings for fashion keywords\n",
    "fashion_keyword_embeddings = {keyword: get_word_embedding(keyword) for keyword in fashion_keywords}\n",
    "\n",
    "# Function to calculate cosine similarity between two word embeddings\n",
    "def calculate_cosine_similarity(embedding1, embedding2):\n",
    "    embedding1 = embedding1.reshape(1, -1)\n",
    "    embedding2 = embedding2.reshape(1, -1)\n",
    "    return cosine_similarity(embedding1, embedding2)[0][0]\n",
    "\n",
    "# Soft match function using cosine similarity\n",
    "def soft_match_keywords(keywords, threshold=0.7):\n",
    "    fashion_related_keywords = []\n",
    "    for keyword in keywords:\n",
    "        keyword_embedding = get_word_embedding(keyword)\n",
    "        # Find the closest fashion keyword using cosine similarity\n",
    "        max_similarity = 0\n",
    "        for fashion_keyword, fashion_embedding in fashion_keyword_embeddings.items():\n",
    "            similarity = calculate_cosine_similarity(keyword_embedding, fashion_embedding)\n",
    "            if similarity > max_similarity:\n",
    "                max_similarity = similarity\n",
    "        # Include the keyword if the similarity exceeds the threshold\n",
    "        if max_similarity >= threshold:\n",
    "            fashion_related_keywords.append(keyword)\n",
    "    return fashion_related_keywords\n",
    "\n",
    "# Load the cleaned data\n",
    "df = pd.read_csv('/Users/ddyilin/Documents/GitHub/fashion/post_cleaned.csv')\n",
    "\n",
    "# Apply the soft match filter to the 'cleaned_post_text' column\n",
    "df['fashion_text'] = df['cleaned_post_text'].apply(lambda x: soft_match_keywords(x, threshold=0.7))\n",
    "\n",
    "# Save the final output with only fashion-related keywords\n",
    "df.to_csv('/Users/ddyilin/Documents/GitHub/fashion/post_filtered.csv', index=False)\n"
   ]
  },
  {
   "cell_type": "code",
   "execution_count": null,
   "metadata": {},
   "outputs": [],
   "source": [
    "# Count empty values\n",
    "empty_values_count = df['filtered_fashion_keywords'].apply(lambda x: len(x) == 0).sum()\n",
    "\n",
    "# Count non-empty values\n",
    "non_empty_values_count = df['filtered_fashion_keywords'].apply(lambda x: len(x) > 0).sum()\n",
    "\n",
    "# Print the results\n",
    "print(f\"Number of empty values in 'filtered_fashion_keywords': {empty_values_count}\")\n",
    "print(f\"Number of non-empty values in 'filtered_fashion_keywords': {non_empty_values_count}\")\n"
   ]
  }
 ],
 "metadata": {
  "kernelspec": {
   "display_name": "d2l",
   "language": "python",
   "name": "python3"
  },
  "language_info": {
   "codemirror_mode": {
    "name": "ipython",
    "version": 3
   },
   "file_extension": ".py",
   "mimetype": "text/x-python",
   "name": "python",
   "nbconvert_exporter": "python",
   "pygments_lexer": "ipython3",
   "version": "3.9.19"
  }
 },
 "nbformat": 4,
 "nbformat_minor": 2
}
