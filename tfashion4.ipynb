{
 "cells": [
  {
   "cell_type": "markdown",
   "metadata": {},
   "source": [
    "# Softer Matching\n",
    "- a matching strategy based on cosine similarity using BERT embeddings\n",
    "- input: topics_filtered.csv (expanded), \n",
    "- output: post_filtered.csv"
   ]
  },
  {
   "cell_type": "code",
   "execution_count": null,
   "metadata": {},
   "outputs": [],
   "source": [
    "import pandas as pd\n",
    "import torch\n",
    "from transformers import BertTokenizer, BertModel\n",
    "from sklearn.metrics.pairwise import cosine_similarity\n",
    "import numpy as np\n",
    "\n",
    "# Load BERT model and tokenizer\n",
    "tokenizer = BertTokenizer.from_pretrained('bert-base-chinese')\n",
    "model = BertModel.from_pretrained('bert-base-chinese')\n",
    "\n",
    "# Function to get word embeddings from BERT\n",
    "def get_word_embedding(word):\n",
    "    inputs = tokenizer(word, return_tensors=\"pt\", truncation=True, padding=True)\n",
    "    with torch.no_grad():\n",
    "        outputs = model(**inputs)\n",
    "    return outputs.last_hidden_state.mean(dim=1).squeeze().numpy()\n",
    "\n",
    "# Load the fashion lexicon from 'topics_filtered.csv'\n",
    "fashion_lexicon_df = pd.read_csv('/Users/ddyilin/Documents/GitHub/fashion/topics_filtered.csv')\n",
    "fashion_keywords = set(fashion_lexicon_df['keyword group'].dropna().astype(str))\n",
    "\n",
    "# Precompute embeddings for fashion keywords\n",
    "fashion_keyword_embeddings = {keyword: get_word_embedding(keyword) for keyword in fashion_keywords}\n",
    "\n",
    "# Function to calculate cosine similarity between two word embeddings\n",
    "def calculate_cosine_similarity(embedding1, embedding2):\n",
    "    embedding1 = embedding1.reshape(1, -1)\n",
    "    embedding2 = embedding2.reshape(1, -1)\n",
    "    return cosine_similarity(embedding1, embedding2)[0][0]\n",
    "\n",
    "# Soft match function using cosine similarity\n",
    "def soft_match_keywords(keywords, threshold=0.7):\n",
    "    fashion_related_keywords = []\n",
    "    for keyword in keywords:\n",
    "        keyword_embedding = get_word_embedding(keyword)\n",
    "        # Find the closest fashion keyword using cosine similarity\n",
    "        max_similarity = 0\n",
    "        for fashion_keyword, fashion_embedding in fashion_keyword_embeddings.items():\n",
    "            similarity = calculate_cosine_similarity(keyword_embedding, fashion_embedding)\n",
    "            if similarity > max_similarity:\n",
    "                max_similarity = similarity\n",
    "        # Include the keyword if the similarity exceeds the threshold\n",
    "        if max_similarity >= threshold:\n",
    "            fashion_related_keywords.append(keyword)\n",
    "    return fashion_related_keywords\n",
    "\n",
    "# Load the cleaned data\n",
    "df = pd.read_csv('/Users/ddyilin/Documents/GitHub/fashion/post_cleaned.csv')\n",
    "\n",
    "# Apply the soft match filter to the 'cleaned_post_text' column\n",
    "df['fashion_text'] = df['cleaned_post_text'].apply(lambda x: soft_match_keywords(x, threshold=0.7))\n",
    "\n",
    "# Save the final output with only fashion-related keywords\n",
    "df.to_csv('/Users/ddyilin/Documents/GitHub/fashion/post_filtered.csv', index=False)\n"
   ]
  }
 ],
 "metadata": {
  "language_info": {
   "name": "python"
  }
 },
 "nbformat": 4,
 "nbformat_minor": 2
}
