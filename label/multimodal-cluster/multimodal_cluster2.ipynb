{
 "cells": [
  {
   "cell_type": "code",
   "execution_count": 5,
   "metadata": {},
   "outputs": [
    {
     "name": "stderr",
     "output_type": "stream",
     "text": [
      "Loading embeddings: 100%|██████████| 5912/5912 [00:02<00:00, 2824.67it/s]\n",
      "/home/dxw/anaconda3/envs/agent/lib/python3.8/site-packages/sklearn/cluster/_kmeans.py:1416: FutureWarning: The default value of `n_init` will change from 10 to 'auto' in 1.4. Set the value of `n_init` explicitly to suppress the warning\n",
      "  super()._check_params_vs_input(X, default_n_init=10)\n"
     ]
    },
    {
     "name": "stdout",
     "output_type": "stream",
     "text": [
      "Post tags for each cluster saved to /data1/dxw_data/llm/redbook_final/script_next/combined_seg_img_pure_094_cluster_imagebind3/most_populated_cluster_post_tags.json\n"
     ]
    }
   ],
   "source": [
    "import os\n",
    "import json\n",
    "import torch\n",
    "from sklearn.cluster import KMeans\n",
    "from tqdm import tqdm\n",
    "import pandas as pd\n",
    "import numpy as np\n",
    "\n",
    "# Paths\n",
    "embedding_folder = '/data1/dxw_data/llm/redbook_final/script_next/concatenated_embeddings_tag'\n",
    "text_embedding_folder = '/data1/dxw_data/llm/redbook_final/script_next/text_embeddings_tag'\n",
    "output_folder = '/data1/dxw_data/llm/redbook_final/script_next/combined_seg_img_pure_094_cluster_imagebind3'\n",
    "csv_file = '/data1/dxw_data/llm/redbook_final/script_next/matching_records.csv'\n",
    "os.makedirs(output_folder, exist_ok=True)\n",
    "\n",
    "# Load the CSV to get post_tag information\n",
    "df = pd.read_csv(csv_file)\n",
    "\n",
    "# Function to load embeddings\n",
    "def load_embeddings(embedding_files):\n",
    "    embeddings = []\n",
    "    for embedding_file in tqdm(embedding_files, desc=\"Loading embeddings\"):\n",
    "        embedding = torch.load(embedding_file)\n",
    "        embeddings.append(embedding)\n",
    "    return torch.cat(embeddings, dim=0).cpu()  # Move to CPU\n",
    "\n",
    "# Load concatenated embeddings\n",
    "concatenated_embedding_files = [os.path.join(embedding_folder, fname) for fname in os.listdir(embedding_folder) if fname.endswith('.pt')]\n",
    "concatenated_embeddings = load_embeddings(concatenated_embedding_files)\n",
    "\n",
    "# Set number of clusters\n",
    "n_clusters = 100\n",
    "\n",
    "# Perform clustering on concatenated embeddings\n",
    "kmeans = KMeans(n_clusters=n_clusters, init='k-means++', random_state=0)  # Use KMeans++\n",
    "concatenated_labels = kmeans.fit_predict(concatenated_embeddings.numpy())  # `concatenated_embeddings` is now on CPU\n",
    "\n",
    "# Save clustering labels to JSON file\n",
    "labels_json = {os.path.basename(concatenated_embedding_files[idx]): int(label_id) for idx, label_id in enumerate(concatenated_labels)}\n",
    "with open(os.path.join(output_folder, 'concatenated_labels.json'), 'w') as f:\n",
    "    json.dump(labels_json, f)\n",
    "\n",
    "# Initialize dictionary to store post_tags for each cluster\n",
    "cluster_post_tags = {i: [] for i in range(n_clusters)}\n",
    "\n",
    "# Extract the corresponding post_tags from the CSV for each cluster\n",
    "for idx, label in enumerate(concatenated_labels):\n",
    "    embedding_file = concatenated_embedding_files[idx]\n",
    "    poster_id, post_id = os.path.basename(embedding_file).replace('_concatenated_embedding.pt', '').split('_')\n",
    "    \n",
    "    # Find the corresponding row in the CSV to get the text\n",
    "    row = df[(df['poster_id'] == poster_id) & (df['post_id'] == post_id)]\n",
    "    if not row.empty:\n",
    "        cluster_post_tags[label].append(row['post_tag'].values[0])\n",
    "\n",
    "# Sample 10 post_tags from each cluster if available\n",
    "sampled_cluster_post_tags = {cluster: tags[:10] for cluster, tags in cluster_post_tags.items()}\n",
    "\n",
    "# Save the sampled post_tag information for each cluster to a JSON file\n",
    "output_json_path = os.path.join(output_folder, 'most_populated_cluster_post_tags.json')\n",
    "with open(output_json_path, 'w') as f:\n",
    "    json.dump(sampled_cluster_post_tags, f, ensure_ascii=False, indent=4)\n",
    "\n",
    "print(f\"Post tags for each cluster saved to {output_json_path}\")\n"
   ]
  },
  {
   "cell_type": "code",
   "execution_count": null,
   "metadata": {},
   "outputs": [],
   "source": []
  },
  {
   "cell_type": "code",
   "execution_count": null,
   "metadata": {},
   "outputs": [],
   "source": []
  },
  {
   "cell_type": "code",
   "execution_count": null,
   "metadata": {},
   "outputs": [],
   "source": []
  },
  {
   "cell_type": "code",
   "execution_count": null,
   "metadata": {},
   "outputs": [],
   "source": []
  },
  {
   "cell_type": "code",
   "execution_count": null,
   "metadata": {},
   "outputs": [],
   "source": []
  },
  {
   "cell_type": "code",
   "execution_count": null,
   "metadata": {},
   "outputs": [],
   "source": []
  }
 ],
 "metadata": {
  "kernelspec": {
   "display_name": "agent",
   "language": "python",
   "name": "python3"
  },
  "language_info": {
   "codemirror_mode": {
    "name": "ipython",
    "version": 3
   },
   "file_extension": ".py",
   "mimetype": "text/x-python",
   "name": "python",
   "nbconvert_exporter": "python",
   "pygments_lexer": "ipython3",
   "version": "3.8.19"
  }
 },
 "nbformat": 4,
 "nbformat_minor": 2
}
