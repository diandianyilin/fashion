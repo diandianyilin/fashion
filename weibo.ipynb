{
 "cells": [
  {
   "cell_type": "markdown",
   "metadata": {},
   "source": [
    "#### To filter out fashion-related content using the fashion corpus"
   ]
  },
  {
   "cell_type": "markdown",
   "metadata": {},
   "source": [
    "##### Load the Fashion Corpus"
   ]
  },
  {
   "cell_type": "code",
   "execution_count": 8,
   "metadata": {},
   "outputs": [
    {
     "name": "stdout",
     "output_type": "stream",
     "text": [
      "['显瘦', '韩系', '感', '氛围', '氛围感']\n"
     ]
    }
   ],
   "source": [
    "import pandas as pd\n",
    "import json\n",
    "\n",
    "# Load the fashion keywords from the CSV file\n",
    "fashion_df = pd.read_csv('/home/disk1/red_disk1/fashion/topics_filtered.csv')\n",
    "\n",
    "# Assuming the fashion-related keywords are in a column named 'keyword group'\n",
    "fashion_keywords = fashion_df['keyword group'].tolist()\n",
    "\n",
    "# Print the first few keywords to verify\n",
    "print(fashion_keywords[:5])\n"
   ]
  },
  {
   "cell_type": "markdown",
   "metadata": {},
   "source": [
    "##### Load the Weibo2021 Dataset"
   ]
  },
  {
   "cell_type": "code",
   "execution_count": 9,
   "metadata": {},
   "outputs": [
    {
     "name": "stdout",
     "output_type": "stream",
     "text": [
      "{'url': 'https://weibo.com/1843324043/HBE39oBV3?type=comment#_rnd1613749635594', 'uid': '1843324043', 'original_text': '网易云福利 卸载重装 送3个月黑胶会员 太爽了吧 （有个故事告诉我们：1.不要包着占便宜的心里去生活。2.音乐是你生活不可缺失的东西，不免费，请尊重[抱拳]） http://t.cn/RghOMBP', 'u_name': '三十隋', 'pic_url': 'https://wx4.sinaimg.cn/mw690/6ddee48bgy1g4ltl94v1rj20u00fu0uz.jp', 'label': 'false-rumor'}\n"
     ]
    }
   ],
   "source": [
    "import json\n",
    "\n",
    "weibo_data = []\n",
    "with open('/home/disk1/red_disk1/fashion/Weibo2021-dataset/all_weibo.json', 'r', encoding='utf-8') as file:\n",
    "    for line in file:\n",
    "        try:\n",
    "            weibo_data.append(json.loads(line))\n",
    "        except json.JSONDecodeError as e:\n",
    "            print(f\"Error decoding JSON on line: {line}\")\n",
    "            print(f\"Error: {e}\")\n",
    "\n",
    "# Print a sample post to inspect the structure\n",
    "print(weibo_data[0])\n"
   ]
  },
  {
   "cell_type": "markdown",
   "metadata": {},
   "source": [
    "##### Filter Out Fashion-Related Content"
   ]
  },
  {
   "cell_type": "code",
   "execution_count": 14,
   "metadata": {},
   "outputs": [
    {
     "name": "stdout",
     "output_type": "stream",
     "text": [
      "Saved 0 non-fashion posts.\n"
     ]
    }
   ],
   "source": [
    "# Filter out fashion-related posts using lowercase and partial matching\n",
    "non_fashion_posts = []\n",
    "for post in weibo_data:\n",
    "    original_text = post.get('original_text', '').lower()  # Convert post text to lowercase for case-insensitive matching\n",
    "    if not any(keyword in original_text for keyword in fashion_keywords):  # Check if none of the fashion keywords appear in the text\n",
    "        non_fashion_posts.append(original_text)\n",
    "\n",
    "# Save the filtered non-fashion posts to a new file\n",
    "with open('/home/disk1/red_disk1/fashion/non_fashion_texts.json', 'w', encoding='utf-8') as outfile:\n",
    "    json.dump(non_fashion_posts, outfile, ensure_ascii=False, indent=4)\n",
    "\n",
    "print(f\"Saved {len(non_fashion_posts)} non-fashion posts.\")"
   ]
  },
  {
   "cell_type": "markdown",
   "metadata": {},
   "source": [
    "##### Verify the Filtered Corpus"
   ]
  },
  {
   "cell_type": "code",
   "execution_count": 15,
   "metadata": {},
   "outputs": [],
   "source": [
    "# Check a few non-fashion posts\n",
    "for post in non_fashion_posts[:5]:\n",
    "    print(post['text'])\n"
   ]
  }
 ],
 "metadata": {
  "kernelspec": {
   "display_name": "base",
   "language": "python",
   "name": "python3"
  },
  "language_info": {
   "codemirror_mode": {
    "name": "ipython",
    "version": 3
   },
   "file_extension": ".py",
   "mimetype": "text/x-python",
   "name": "python",
   "nbconvert_exporter": "python",
   "pygments_lexer": "ipython3",
   "version": "3.9.7"
  }
 },
 "nbformat": 4,
 "nbformat_minor": 2
}
